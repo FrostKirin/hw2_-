{
 "cells": [
  {
   "cell_type": "code",
   "execution_count": 1,
   "id": "b2c1ae00",
   "metadata": {},
   "outputs": [],
   "source": [
    "import os\n",
    "import numpy as np\n",
    "import matplotlib.pyplot as plt\n",
    "import pandas as pd\n",
    "\n",
    "from keras.models import Sequential, load_model\n",
    "from keras.datasets import cifar10\n",
    "from keras.utils import np_utils,plot_model\n",
    "from keras.layers import Dense, Dropout, Flatten, Conv2D, MaxPool2D\n",
    "from sklearn import metrics\n",
    "from keras import backend as K"
   ]
  },
  {
   "cell_type": "code",
   "execution_count": 2,
   "id": "51c0b2ea",
   "metadata": {},
   "outputs": [],
   "source": [
    "# 定義\n",
    "def recall(y_true, y_pred):\n",
    "    true_positives = K.sum(K.round(K.clip(y_true * y_pred, 0, 1)))\n",
    "    possible_positives = K.sum(K.round(K.clip(y_true, 0, 1)))\n",
    "    recall = true_positives / (possible_positives + K.epsilon())\n",
    "    return recall\n",
    "\n",
    "def precision(y_true, y_pred):\n",
    "    true_positives = K.sum(K.round(K.clip(y_true * y_pred, 0, 1)))\n",
    "    predicted_positives = K.sum(K.round(K.clip(y_pred, 0, 1)))\n",
    "    precision = true_positives / (predicted_positives + K.epsilon())\n",
    "    return precision"
   ]
  },
  {
   "cell_type": "code",
   "execution_count": 3,
   "id": "8e4b4494",
   "metadata": {},
   "outputs": [],
   "source": [
    "(X_train, Y_train), (X_test, Y_test) = cifar10.load_data()\n",
    "x_train = X_train.astype('float32')/255\n",
    "x_test = X_test.astype('float32')/255\n",
    "y_train = np_utils.to_categorical(Y_train)\n",
    "y_test = np_utils.to_categorical(Y_test)"
   ]
  },
  {
   "cell_type": "code",
   "execution_count": 4,
   "id": "03b76169",
   "metadata": {},
   "outputs": [
    {
     "name": "stdout",
     "output_type": "stream",
     "text": [
      "Model: \"sequential\"\n",
      "_________________________________________________________________\n",
      "Layer (type)                 Output Shape              Param #   \n",
      "=================================================================\n",
      "conv2d (Conv2D)              (None, 32, 32, 64)        1792      \n",
      "_________________________________________________________________\n",
      "max_pooling2d (MaxPooling2D) (None, 16, 16, 64)        0         \n",
      "_________________________________________________________________\n",
      "conv2d_1 (Conv2D)            (None, 16, 16, 128)       73856     \n",
      "_________________________________________________________________\n",
      "max_pooling2d_1 (MaxPooling2 (None, 8, 8, 128)         0         \n",
      "_________________________________________________________________\n",
      "conv2d_2 (Conv2D)            (None, 8, 8, 128)         147584    \n",
      "_________________________________________________________________\n",
      "max_pooling2d_2 (MaxPooling2 (None, 4, 4, 128)         0         \n",
      "_________________________________________________________________\n",
      "dropout (Dropout)            (None, 4, 4, 128)         0         \n",
      "_________________________________________________________________\n",
      "flatten (Flatten)            (None, 2048)              0         \n",
      "_________________________________________________________________\n",
      "dense (Dense)                (None, 512)               1049088   \n",
      "_________________________________________________________________\n",
      "dropout_1 (Dropout)          (None, 512)               0         \n",
      "_________________________________________________________________\n",
      "dense_1 (Dense)              (None, 10)                5130      \n",
      "=================================================================\n",
      "Total params: 1,277,450\n",
      "Trainable params: 1,277,450\n",
      "Non-trainable params: 0\n",
      "_________________________________________________________________\n",
      "None\n"
     ]
    }
   ],
   "source": [
    "model = Sequential()\n",
    "model.add(Conv2D(filters=64, kernel_size=3, input_shape=(32, 32, 3), activation='relu', padding='same'))\n",
    "model.add(MaxPool2D(pool_size=2))\n",
    "\n",
    "model.add(Conv2D(filters=128, kernel_size=3, activation='relu', padding='same'))\n",
    "model.add(MaxPool2D(pool_size=2))\n",
    "\n",
    "model.add(Conv2D(filters=128, kernel_size=3, activation='relu', padding='same'))\n",
    "model.add(MaxPool2D(pool_size=2))\n",
    "model.add(Dropout(rate=0.2))\n",
    "\n",
    "model.add(Flatten())\n",
    "model.add(Dense(512, activation='relu'))\n",
    "model.add(Dropout(rate=0.2))\n",
    "model.add(Dense(10, activation='softmax'))\n",
    "print(model.summary())"
   ]
  },
  {
   "cell_type": "code",
   "execution_count": 5,
   "id": "54d80c4d",
   "metadata": {},
   "outputs": [
    {
     "name": "stdout",
     "output_type": "stream",
     "text": [
      "Epoch 1/10\n",
      "926/926 [==============================] - 57s 61ms/step - loss: 1.4375 - acc: 0.4742 - precision: 0.6408 - recall: 0.2688\n",
      "Epoch 2/10\n",
      "926/926 [==============================] - 56s 61ms/step - loss: 1.0040 - acc: 0.6463 - precision: 0.7745 - recall: 0.5140\n",
      "Epoch 3/10\n",
      "926/926 [==============================] - 57s 61ms/step - loss: 0.8333 - acc: 0.7082 - precision: 0.8102 - recall: 0.6075\n",
      "Epoch 4/10\n",
      "926/926 [==============================] - 57s 61ms/step - loss: 0.7207 - acc: 0.7488 - precision: 0.8306 - recall: 0.6665\n",
      "Epoch 5/10\n",
      "926/926 [==============================] - 57s 61ms/step - loss: 0.6354 - acc: 0.7771 - precision: 0.8488 - recall: 0.7104\n",
      "Epoch 6/10\n",
      "926/926 [==============================] - 57s 61ms/step - loss: 0.5689 - acc: 0.8005 - precision: 0.8602 - recall: 0.7422\n",
      "Epoch 7/10\n",
      "926/926 [==============================] - 56s 61ms/step - loss: 0.5076 - acc: 0.8213 - precision: 0.8728 - recall: 0.7739\n",
      "Epoch 8/10\n",
      "926/926 [==============================] - 56s 61ms/step - loss: 0.4530 - acc: 0.8407 - precision: 0.8849 - recall: 0.7996\n",
      "Epoch 9/10\n",
      "926/926 [==============================] - 56s 61ms/step - loss: 0.4077 - acc: 0.8549 - precision: 0.8921 - recall: 0.8205\n",
      "Epoch 10/10\n",
      "926/926 [==============================] - 57s 61ms/step - loss: 0.3629 - acc: 0.8714 - precision: 0.9008 - recall: 0.8420\n"
     ]
    }
   ],
   "source": [
    "model.compile(loss='categorical_crossentropy', optimizer='adam', metrics=['acc',precision, recall])\n",
    "history = model.fit(x_train, y_train, epochs=10, batch_size=54, verbose=1)"
   ]
  },
  {
   "cell_type": "code",
   "execution_count": 6,
   "id": "5040be69",
   "metadata": {},
   "outputs": [
    {
     "name": "stdout",
     "output_type": "stream",
     "text": [
      "313/313 [==============================] - 3s 9ms/step - loss: 0.7044 - acc: 0.7754 - precision: 0.8191 - recall: 0.7396\n",
      "Loss: 0.7043812870979309\n",
      "Accuracy: 0.7753999829292297\n",
      "Precision: 0.8191088438034058\n",
      "Recall: 0.7396166324615479\n",
      "F1 0.7773357578334313\n"
     ]
    }
   ],
   "source": [
    "loss, accuracy,precision_R, recall_R = model.evaluate(x_test, y_test)\n",
    "print('Loss:', loss)\n",
    "print('Accuracy:', accuracy)\n",
    "print('Precision:', precision_R)\n",
    "print('Recall:', recall_R)\n",
    "F1 = 2 * (precision_R * recall_R) / (precision_R + recall_R)\n",
    "print('F1',F1)"
   ]
  },
  {
   "cell_type": "code",
   "execution_count": 7,
   "id": "b6372e52",
   "metadata": {},
   "outputs": [
    {
     "data": {
      "image/png": "[encoded data removed]",
      "text/plain": [
       "<Figure size 432x288 with 1 Axes>"
      ]
     },
     "metadata": {
      "needs_background": "light"
     },
     "output_type": "display_data"
    }
   ],
   "source": [
    "loss = history.history[\"loss\"]\n",
    "epochs = range(1, len(loss)+1)\n",
    "plt.plot(epochs, loss, \"bo\", label =\"Training Loss\")\n",
    "plt.plot(epochs, history.history['loss'], 'b', label='loss')\n",
    "plt.xlabel(\"Epochs\")\n",
    "plt.ylabel(\"Loss\")\n",
    "plt.legend()\n",
    "plt.show()"
   ]
  },
  {
   "cell_type": "code",
   "execution_count": 8,
   "id": "264a0c07",
   "metadata": {},
   "outputs": [
    {
     "data": {
      "image/png": "[encoded data removed]",
      "text/plain": [
       "<Figure size 576x360 with 1 Axes>"
      ]
     },
     "metadata": {
      "needs_background": "light"
     },
     "output_type": "display_data"
    }
   ],
   "source": [
    "pd.DataFrame(history.history).plot(figsize = (8, 5))\n",
    "plt.grid(True)\n",
    "plt.gca().set_ylim(0, 2)\n",
    "plt.show()"
   ]
  }
 ],
 "metadata": {
  "kernelspec": {
   "display_name": "Python 3",
   "language": "python",
   "name": "python3"
  },
  "language_info": {
   "codemirror_mode": {
    "name": "ipython",
    "version": 3
   },
   "file_extension": ".py",
   "mimetype": "text/x-python",
   "name": "python",
   "nbconvert_exporter": "python",
   "pygments_lexer": "ipython3",
   "version": "3.8.8"
  }
 },
 "nbformat": 4,
 "nbformat_minor": 5
}
